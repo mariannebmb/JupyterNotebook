{
 "cells": [
  {
   "cell_type": "markdown",
   "id": "whole-panel",
   "metadata": {},
   "source": [
    "# Primeiros Passo com Jupyter\n",
    "\n",
    "Esse tutorial serve para te orientar durante o uso. \n",
    "O Jupyter é basicamente um \"word\" que permite o processamento de códigos em python no corpo do texto. Ele vai te auxiliar a entender e documentar os codigos, no processamento de dados e te dar um help com ML.\n",
    "\n",
    "O documento é dividido em:\n",
    "  1. Kernel: parte que executa os codigos \n",
    "  2. Cell: parte que possibilita descrever o documento, podendo ser um code cell ou markdown cell \n",
    "    \n",
    "Os códigos de cell diferentes são conectados, ou seja, caso seja importado uma biblioteca ou criado uma função em um cell, nas outras poderam chama-lá."
   ]
  },
  {
   "cell_type": "code",
   "execution_count": null,
   "id": "perfect-security",
   "metadata": {},
   "outputs": [],
   "source": [
    "## Exemplo de um code cell:\n",
    "\n",
    "def say_hello(nome):\n",
    "    return f'Hello, {nome}!'\n",
    "\n",
    "say_hello('Mari')"
   ]
  },
  {
   "cell_type": "code",
   "execution_count": null,
   "id": "settled-appreciation",
   "metadata": {},
   "outputs": [],
   "source": [
    "## Visualizando dados \n",
    "\n",
    "%matplotlib inline\n",
    "import matplotlib.pyplot as plt\n",
    "import pandas \n",
    "import seaborn as sns \n",
    "\n",
    "df = pandas.read_csv('fortune500.csv')\n",
    "df.columns = ['year', 'rank', 'company', 'revenue', 'profit']\n",
    "df.head()"
   ]
  },
  {
   "cell_type": "code",
   "execution_count": null,
   "id": "specialized-space",
   "metadata": {},
   "outputs": [],
   "source": [
    "group_by_year = df.loc[:, ['year', 'revenue', 'profit']].groupby('year')\n",
    "avgs = group_by_year.mean()\n",
    "avgs.head()"
   ]
  },
  {
   "cell_type": "code",
   "execution_count": null,
   "id": "actual-momentum",
   "metadata": {
    "scrolled": true
   },
   "outputs": [],
   "source": [
    "## Plotando os dados \n",
    "\n",
    "x = avgs.index\n",
    "y1 = avgs.revenue\n",
    "\n",
    "def plote(x, y, ax, title, y_label):\n",
    "    ax.set_title(title)\n",
    "    ax.set_ylabel(y_label)\n",
    "    ax.plot(x, y)\n",
    "    ax.margins(x=0, y=0)\n",
    "    \n",
    "fig, ax = plt.subplots()\n",
    "plote(x, y1, ax, 'Increase in mean Fortune 500 company profits from 1955 to 2005', 'Profit (millions)')"
   ]
  },
  {
   "attachments": {
    "images.jpeg": {
     "image/jpeg": "[encoded data removed]"
    }
   },
   "cell_type": "markdown",
   "id": "swedish-color",
   "metadata": {},
   "source": [
    "## Ferramentas Textuais\n",
    "\n",
    "Mais info: [Tutorial] (https://daringfireball.net/projects/markdown/syntax) \n",
    "* '#' nível 1 do cabeçalho\n",
    "* '##' nível 2 do cabeçalho\n",
    "* '__ palavra __ ' ou ' ** palavra ** ' negrito\n",
    "* ' _ palavra _ ' ou '* palavra * ' italico\n",
    "* Separar palavras com uma linha vazia\n",
    "* Pode criar listas enumeradas com 1. 2. ...\n",
    "* O * cria lista simples\n",
    "* Para criar hyperlinks é so colocar o a palavra entre colchetes e o link entre parenteses\n",
    "* Para inserir um codigo na linha do texto usa aspas simples e aspas triplas (code block) ou indentar com 4 espaços\n",
    "* Para adicionar imagem usa o URL ![imagem.png] (Endereço URL)\n",
    "![images.jpeg](attachment:images.jpeg)\n",
    "\n"
   ]
  },
  {
   "cell_type": "markdown",
   "id": "governmental-potential",
   "metadata": {},
   "source": [
    "## Atalhos importantes\n",
    "\n",
    "* __Ctrl + Enter__ -> Run\n",
    "\n",
    "* __Esc + Enter__ -> muda/volta de edit to command mode\n",
    "\n",
    "* __Tecla A ou B__ -> cria uma nova cell\n",
    "\n",
    "* __Tecla M__ -> transforma em markdown cell\n",
    "\n",
    "* __Tecla Y__ -> transforma em code cell\n",
    "\n",
    "* __Dupla tecla D__ -> deleta a cell\n",
    "\n",
    "* __Tecla z__ -> desfaz a exclusão\n",
    "\n",
    "* __Ctrl + shift + - (edit mode)__ -> divide a cell em duas no ponto que o cursos está"
   ]
  },
  {
   "cell_type": "markdown",
   "id": "living-airplane",
   "metadata": {},
   "source": [
    "## Compartilhando o seu documento\n",
    "\n",
    " **1. Compartilhando não interativo:** File -> Download as\n",
    " \n",
    " \n",
    " **2. Compartilhamento colaborativo (sistema de controle de versão):**"
   ]
  },
  {
   "cell_type": "markdown",
   "id": "better-premium",
   "metadata": {},
   "source": [
    "## Referencias \n",
    "\n",
    "1. (https://www.dataquest.io/blog/jupyter-notebook-tutorial/)\n",
    "2. (https://medium.com/peterfan-blog/how-to-save-jupyter-notebook-as-pdf-file-3a31f1f65c09)"
   ]
  }
 ],
 "metadata": {
  "kernelspec": {
   "display_name": "Python 3",
   "language": "python",
   "name": "python3"
  },
  "language_info": {
   "codemirror_mode": {
    "name": "ipython",
    "version": 3
   },
   "file_extension": ".py",
   "mimetype": "text/x-python",
   "name": "python",
   "nbconvert_exporter": "python",
   "pygments_lexer": "ipython3",
   "version": "3.8.2"
  }
 },
 "nbformat": 4,
 "nbformat_minor": 5
}
